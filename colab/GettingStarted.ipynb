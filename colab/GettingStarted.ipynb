{
  "cells": [
    {
      "cell_type": "markdown",
      "metadata": {
        "id": "view-in-github",
        "colab_type": "text"
      },
      "source": [
        "<a href=\"https://colab.research.google.com/github/ckumwaka/SQL/blob/main/colab/GettingStarted.ipynb\" target=\"_parent\"><img src=\"https://colab.research.google.com/assets/colab-badge.svg\" alt=\"Open In Colab\"/></a>"
      ]
    },
    {
      "cell_type": "markdown",
      "id": "c5544a69-1012-4277-a9ec-c3b4843cb951",
      "metadata": {
        "id": "c5544a69-1012-4277-a9ec-c3b4843cb951"
      },
      "source": [
        "[![Open In Collab](https://colab.research.google.com/assets/colab-badge.svg)](https://colab.research.google.com/github/worldcoin/open-iris/blob/main/colab/GettingStarted.ipynb)"
      ]
    },
    {
      "cell_type": "markdown",
      "id": "7638ad51-62fe-44ac-9a54-0accad911f37",
      "metadata": {
        "id": "7638ad51-62fe-44ac-9a54-0accad911f37"
      },
      "source": [
        "# IRIS: _Getting started_ tutorial\n",
        "\n",
        "This Jupyter Notebook will walk you through you the basics of usage `iris` package. From it you will learn how to:\n",
        "- Perform an `IRISPipeline` inference call.\n",
        "- Configure `IRISPipeline` environment to modify error handling and return behaviour.\n",
        "- Visualize `IRISPipeline` intermediate results."
      ]
    },
    {
      "cell_type": "markdown",
      "id": "2725bedf-fdac-4faa-868d-d007e9a9ba1e",
      "metadata": {
        "id": "2725bedf-fdac-4faa-868d-d007e9a9ba1e"
      },
      "source": [
        "## 0. Installing `iris` package in the `SERVER` environment."
      ]
    },
    {
      "cell_type": "markdown",
      "id": "0da751ef-6273-4302-a1be-be05ad1d4bb0",
      "metadata": {
        "id": "0da751ef-6273-4302-a1be-be05ad1d4bb0"
      },
      "source": [
        "Install `iris` package"
      ]
    },
    {
      "cell_type": "code",
      "execution_count": 2,
      "id": "b377bfbb-d1a7-4df8-bcc7-ce13725229f8",
      "metadata": {
        "scrolled": true,
        "id": "b377bfbb-d1a7-4df8-bcc7-ce13725229f8",
        "outputId": "ddd83353-24cc-4dfd-9cae-7d5333c815a6",
        "colab": {
          "base_uri": "https://localhost:8080/",
          "height": 1000
        }
      },
      "outputs": [
        {
          "output_type": "stream",
          "name": "stdout",
          "text": [
            "Collecting open-iris\n",
            "  Downloading open_iris-1.1.1-py3-none-any.whl.metadata (12 kB)\n",
            "Collecting huggingface-hub==0.19.4 (from open-iris)\n",
            "  Downloading huggingface_hub-0.19.4-py3-none-any.whl.metadata (14 kB)\n",
            "Collecting matplotlib==3.7.4 (from open-iris)\n",
            "  Downloading matplotlib-3.7.4-cp310-cp310-manylinux_2_17_x86_64.manylinux2014_x86_64.whl.metadata (5.7 kB)\n",
            "Collecting numpy==1.24.4 (from open-iris)\n",
            "  Downloading numpy-1.24.4-cp310-cp310-manylinux_2_17_x86_64.manylinux2014_x86_64.whl.metadata (5.6 kB)\n",
            "Collecting pydantic==1.10.13 (from open-iris)\n",
            "  Downloading pydantic-1.10.13-cp310-cp310-manylinux_2_17_x86_64.manylinux2014_x86_64.whl.metadata (149 kB)\n",
            "\u001b[2K     \u001b[90m━━━━━━━━━━━━━━━━━━━━━━━━━━━━━━━━━━━━━━━━\u001b[0m \u001b[32m149.6/149.6 kB\u001b[0m \u001b[31m1.3 MB/s\u001b[0m eta \u001b[36m0:00:00\u001b[0m\n",
            "\u001b[?25hCollecting pyyaml==6.0.1 (from open-iris)\n",
            "  Downloading PyYAML-6.0.1-cp310-cp310-manylinux_2_17_x86_64.manylinux2014_x86_64.whl.metadata (2.1 kB)\n",
            "Collecting onnx==1.15.0 (from open-iris)\n",
            "  Downloading onnx-1.15.0-cp310-cp310-manylinux_2_17_x86_64.manylinux2014_x86_64.whl.metadata (15 kB)\n",
            "Collecting onnxruntime==1.16.3 (from open-iris)\n",
            "  Downloading onnxruntime-1.16.3-cp310-cp310-manylinux_2_17_x86_64.manylinux2014_x86_64.whl.metadata (4.3 kB)\n",
            "Collecting opencv-python==4.7.0.68 (from open-iris)\n",
            "  Downloading opencv_python-4.7.0.68-cp37-abi3-manylinux_2_17_x86_64.manylinux2014_x86_64.whl.metadata (18 kB)\n",
            "Requirement already satisfied: filelock in /usr/local/lib/python3.10/dist-packages (from huggingface-hub==0.19.4->open-iris) (3.15.4)\n",
            "Requirement already satisfied: fsspec>=2023.5.0 in /usr/local/lib/python3.10/dist-packages (from huggingface-hub==0.19.4->open-iris) (2024.6.1)\n",
            "Requirement already satisfied: requests in /usr/local/lib/python3.10/dist-packages (from huggingface-hub==0.19.4->open-iris) (2.32.3)\n",
            "Requirement already satisfied: tqdm>=4.42.1 in /usr/local/lib/python3.10/dist-packages (from huggingface-hub==0.19.4->open-iris) (4.66.5)\n",
            "Requirement already satisfied: typing-extensions>=3.7.4.3 in /usr/local/lib/python3.10/dist-packages (from huggingface-hub==0.19.4->open-iris) (4.12.2)\n",
            "Requirement already satisfied: packaging>=20.9 in /usr/local/lib/python3.10/dist-packages (from huggingface-hub==0.19.4->open-iris) (24.1)\n",
            "Requirement already satisfied: contourpy>=1.0.1 in /usr/local/lib/python3.10/dist-packages (from matplotlib==3.7.4->open-iris) (1.2.1)\n",
            "Requirement already satisfied: cycler>=0.10 in /usr/local/lib/python3.10/dist-packages (from matplotlib==3.7.4->open-iris) (0.12.1)\n",
            "Requirement already satisfied: fonttools>=4.22.0 in /usr/local/lib/python3.10/dist-packages (from matplotlib==3.7.4->open-iris) (4.53.1)\n",
            "Requirement already satisfied: kiwisolver>=1.0.1 in /usr/local/lib/python3.10/dist-packages (from matplotlib==3.7.4->open-iris) (1.4.5)\n",
            "Requirement already satisfied: pillow>=6.2.0 in /usr/local/lib/python3.10/dist-packages (from matplotlib==3.7.4->open-iris) (9.4.0)\n",
            "Requirement already satisfied: pyparsing>=2.3.1 in /usr/local/lib/python3.10/dist-packages (from matplotlib==3.7.4->open-iris) (3.1.4)\n",
            "Requirement already satisfied: python-dateutil>=2.7 in /usr/local/lib/python3.10/dist-packages (from matplotlib==3.7.4->open-iris) (2.8.2)\n",
            "Requirement already satisfied: protobuf>=3.20.2 in /usr/local/lib/python3.10/dist-packages (from onnx==1.15.0->open-iris) (3.20.3)\n",
            "Collecting coloredlogs (from onnxruntime==1.16.3->open-iris)\n",
            "  Downloading coloredlogs-15.0.1-py2.py3-none-any.whl.metadata (12 kB)\n",
            "Requirement already satisfied: flatbuffers in /usr/local/lib/python3.10/dist-packages (from onnxruntime==1.16.3->open-iris) (24.3.25)\n",
            "Requirement already satisfied: sympy in /usr/local/lib/python3.10/dist-packages (from onnxruntime==1.16.3->open-iris) (1.13.2)\n",
            "Requirement already satisfied: six>=1.5 in /usr/local/lib/python3.10/dist-packages (from python-dateutil>=2.7->matplotlib==3.7.4->open-iris) (1.16.0)\n",
            "Collecting humanfriendly>=9.1 (from coloredlogs->onnxruntime==1.16.3->open-iris)\n",
            "  Downloading humanfriendly-10.0-py2.py3-none-any.whl.metadata (9.2 kB)\n",
            "Requirement already satisfied: charset-normalizer<4,>=2 in /usr/local/lib/python3.10/dist-packages (from requests->huggingface-hub==0.19.4->open-iris) (3.3.2)\n",
            "Requirement already satisfied: idna<4,>=2.5 in /usr/local/lib/python3.10/dist-packages (from requests->huggingface-hub==0.19.4->open-iris) (3.8)\n",
            "Requirement already satisfied: urllib3<3,>=1.21.1 in /usr/local/lib/python3.10/dist-packages (from requests->huggingface-hub==0.19.4->open-iris) (2.0.7)\n",
            "Requirement already satisfied: certifi>=2017.4.17 in /usr/local/lib/python3.10/dist-packages (from requests->huggingface-hub==0.19.4->open-iris) (2024.7.4)\n",
            "Requirement already satisfied: mpmath<1.4,>=1.1.0 in /usr/local/lib/python3.10/dist-packages (from sympy->onnxruntime==1.16.3->open-iris) (1.3.0)\n",
            "\u001b[33mWARNING: The candidate selected for download or install is a yanked version: 'opencv-python' candidate (version 4.7.0.68 at https://files.pythonhosted.org/packages/07/e2/405fd71f433960b0ce6a546536b05a26d85508df7eea98850784e10323e9/opencv_python-4.7.0.68-cp37-abi3-manylinux_2_17_x86_64.manylinux2014_x86_64.whl (from https://pypi.org/simple/opencv-python/) (requires-python:>=3.6))\n",
            "Reason for being yanked: Deprecated, use 4.7.0.71\u001b[0m\u001b[33m\n",
            "\u001b[0mDownloading open_iris-1.1.1-py3-none-any.whl (99 kB)\n",
            "\u001b[2K   \u001b[90m━━━━━━━━━━━━━━━━━━━━━━━━━━━━━━━━━━━━━━━━\u001b[0m \u001b[32m99.5/99.5 kB\u001b[0m \u001b[31m3.7 MB/s\u001b[0m eta \u001b[36m0:00:00\u001b[0m\n",
            "\u001b[?25hDownloading huggingface_hub-0.19.4-py3-none-any.whl (311 kB)\n",
            "\u001b[2K   \u001b[90m━━━━━━━━━━━━━━━━━━━━━━━━━━━━━━━━━━━━━━━━\u001b[0m \u001b[32m311.7/311.7 kB\u001b[0m \u001b[31m15.1 MB/s\u001b[0m eta \u001b[36m0:00:00\u001b[0m\n",
            "\u001b[?25hDownloading matplotlib-3.7.4-cp310-cp310-manylinux_2_17_x86_64.manylinux2014_x86_64.whl (11.6 MB)\n",
            "\u001b[2K   \u001b[90m━━━━━━━━━━━━━━━━━━━━━━━━━━━━━━━━━━━━━━━━\u001b[0m \u001b[32m11.6/11.6 MB\u001b[0m \u001b[31m69.6 MB/s\u001b[0m eta \u001b[36m0:00:00\u001b[0m\n",
            "\u001b[?25hDownloading numpy-1.24.4-cp310-cp310-manylinux_2_17_x86_64.manylinux2014_x86_64.whl (17.3 MB)\n",
            "\u001b[2K   \u001b[90m━━━━━━━━━━━━━━━━━━━━━━━━━━━━━━━━━━━━━━━━\u001b[0m \u001b[32m17.3/17.3 MB\u001b[0m \u001b[31m56.3 MB/s\u001b[0m eta \u001b[36m0:00:00\u001b[0m\n",
            "\u001b[?25hDownloading onnx-1.15.0-cp310-cp310-manylinux_2_17_x86_64.manylinux2014_x86_64.whl (15.7 MB)\n",
            "\u001b[2K   \u001b[90m━━━━━━━━━━━━━━━━━━━━━━━━━━━━━━━━━━━━━━━━\u001b[0m \u001b[32m15.7/15.7 MB\u001b[0m \u001b[31m68.9 MB/s\u001b[0m eta \u001b[36m0:00:00\u001b[0m\n",
            "\u001b[?25hDownloading onnxruntime-1.16.3-cp310-cp310-manylinux_2_17_x86_64.manylinux2014_x86_64.whl (6.4 MB)\n",
            "\u001b[2K   \u001b[90m━━━━━━━━━━━━━━━━━━━━━━━━━━━━━━━━━━━━━━━━\u001b[0m \u001b[32m6.4/6.4 MB\u001b[0m \u001b[31m75.3 MB/s\u001b[0m eta \u001b[36m0:00:00\u001b[0m\n",
            "\u001b[?25hDownloading opencv_python-4.7.0.68-cp37-abi3-manylinux_2_17_x86_64.manylinux2014_x86_64.whl (61.8 MB)\n",
            "\u001b[2K   \u001b[90m━━━━━━━━━━━━━━━━━━━━━━━━━━━━━━━━━━━━━━━━\u001b[0m \u001b[32m61.8/61.8 MB\u001b[0m \u001b[31m10.6 MB/s\u001b[0m eta \u001b[36m0:00:00\u001b[0m\n",
            "\u001b[?25hDownloading pydantic-1.10.13-cp310-cp310-manylinux_2_17_x86_64.manylinux2014_x86_64.whl (3.1 MB)\n",
            "\u001b[2K   \u001b[90m━━━━━━━━━━━━━━━━━━━━━━━━━━━━━━━━━━━━━━━━\u001b[0m \u001b[32m3.1/3.1 MB\u001b[0m \u001b[31m36.1 MB/s\u001b[0m eta \u001b[36m0:00:00\u001b[0m\n",
            "\u001b[?25hDownloading PyYAML-6.0.1-cp310-cp310-manylinux_2_17_x86_64.manylinux2014_x86_64.whl (705 kB)\n",
            "\u001b[2K   \u001b[90m━━━━━━━━━━━━━━━━━━━━━━━━━━━━━━━━━━━━━━━━\u001b[0m \u001b[32m705.5/705.5 kB\u001b[0m \u001b[31m22.0 MB/s\u001b[0m eta \u001b[36m0:00:00\u001b[0m\n",
            "\u001b[?25hDownloading coloredlogs-15.0.1-py2.py3-none-any.whl (46 kB)\n",
            "\u001b[2K   \u001b[90m━━━━━━━━━━━━━━━━━━━━━━━━━━━━━━━━━━━━━━━━\u001b[0m \u001b[32m46.0/46.0 kB\u001b[0m \u001b[31m2.5 MB/s\u001b[0m eta \u001b[36m0:00:00\u001b[0m\n",
            "\u001b[?25hDownloading humanfriendly-10.0-py2.py3-none-any.whl (86 kB)\n",
            "\u001b[2K   \u001b[90m━━━━━━━━━━━━━━━━━━━━━━━━━━━━━━━━━━━━━━━━\u001b[0m \u001b[32m86.8/86.8 kB\u001b[0m \u001b[31m5.0 MB/s\u001b[0m eta \u001b[36m0:00:00\u001b[0m\n",
            "\u001b[?25hInstalling collected packages: pyyaml, pydantic, numpy, humanfriendly, opencv-python, onnx, huggingface-hub, coloredlogs, onnxruntime, matplotlib, open-iris\n",
            "  Attempting uninstall: pyyaml\n",
            "    Found existing installation: PyYAML 6.0.2\n",
            "    Uninstalling PyYAML-6.0.2:\n",
            "      Successfully uninstalled PyYAML-6.0.2\n",
            "  Attempting uninstall: pydantic\n",
            "    Found existing installation: pydantic 2.8.2\n",
            "    Uninstalling pydantic-2.8.2:\n",
            "      Successfully uninstalled pydantic-2.8.2\n",
            "  Attempting uninstall: numpy\n",
            "    Found existing installation: numpy 1.26.4\n",
            "    Uninstalling numpy-1.26.4:\n",
            "      Successfully uninstalled numpy-1.26.4\n",
            "  Attempting uninstall: opencv-python\n",
            "    Found existing installation: opencv-python 4.10.0.84\n",
            "    Uninstalling opencv-python-4.10.0.84:\n",
            "      Successfully uninstalled opencv-python-4.10.0.84\n",
            "  Attempting uninstall: huggingface-hub\n",
            "    Found existing installation: huggingface-hub 0.23.5\n",
            "    Uninstalling huggingface-hub-0.23.5:\n",
            "      Successfully uninstalled huggingface-hub-0.23.5\n",
            "  Attempting uninstall: matplotlib\n",
            "    Found existing installation: matplotlib 3.7.1\n",
            "    Uninstalling matplotlib-3.7.1:\n",
            "      Successfully uninstalled matplotlib-3.7.1\n",
            "\u001b[31mERROR: pip's dependency resolver does not currently take into account all the packages that are installed. This behaviour is the source of the following dependency conflicts.\n",
            "albumentations 1.4.14 requires pydantic>=2.7.0, but you have pydantic 1.10.13 which is incompatible.\n",
            "pandas-stubs 2.1.4.231227 requires numpy>=1.26.0; python_version < \"3.13\", but you have numpy 1.24.4 which is incompatible.\n",
            "transformers 4.42.4 requires huggingface-hub<1.0,>=0.23.2, but you have huggingface-hub 0.19.4 which is incompatible.\u001b[0m\u001b[31m\n",
            "\u001b[0mSuccessfully installed coloredlogs-15.0.1 huggingface-hub-0.19.4 humanfriendly-10.0 matplotlib-3.7.4 numpy-1.24.4 onnx-1.15.0 onnxruntime-1.16.3 open-iris-1.1.1 opencv-python-4.7.0.68 pydantic-1.10.13 pyyaml-6.0.1\n"
          ]
        },
        {
          "output_type": "display_data",
          "data": {
            "application/vnd.colab-display-data+json": {
              "pip_warning": {
                "packages": [
                  "matplotlib",
                  "mpl_toolkits",
                  "numpy"
                ]
              },
              "id": "350ae4e4eef848e99b944aa19eb04abb"
            }
          },
          "metadata": {}
        }
      ],
      "source": [
        "!pip install open-iris"
      ]
    },
    {
      "cell_type": "markdown",
      "id": "b600b48b-66c5-412b-a732-5cdb3da452cd",
      "metadata": {
        "id": "b600b48b-66c5-412b-a732-5cdb3da452cd"
      },
      "source": [
        "Verify installation by printing `iris` version"
      ]
    },
    {
      "cell_type": "code",
      "execution_count": 1,
      "id": "e58fc558-68e1-4d27-a57d-39a3e97882c9",
      "metadata": {
        "id": "e58fc558-68e1-4d27-a57d-39a3e97882c9",
        "outputId": "82deba6b-eaa9-49ea-e484-a20e0544f943",
        "colab": {
          "base_uri": "https://localhost:8080/"
        }
      },
      "outputs": [
        {
          "output_type": "stream",
          "name": "stdout",
          "text": [
            "1.1.1\n"
          ]
        }
      ],
      "source": [
        "import iris\n",
        "\n",
        "print(iris.__version__)"
      ]
    },
    {
      "cell_type": "markdown",
      "id": "35300bf0-49e7-4747-9a06-856ed4b73638",
      "metadata": {
        "id": "35300bf0-49e7-4747-9a06-856ed4b73638"
      },
      "source": [
        "Download sample IR image for experimenting."
      ]
    },
    {
      "cell_type": "code",
      "execution_count": 2,
      "id": "772e04cf-0342-4da5-be80-4b1aaa3ec27a",
      "metadata": {
        "id": "772e04cf-0342-4da5-be80-4b1aaa3ec27a",
        "outputId": "6ae4e4d8-6fd6-4818-a875-54c81f3e35de",
        "colab": {
          "base_uri": "https://localhost:8080/"
        }
      },
      "outputs": [
        {
          "output_type": "stream",
          "name": "stdout",
          "text": [
            "--2024-08-28 18:05:03--  https://wld-ml-ai-data-public.s3.amazonaws.com/public-iris-images/example_orb_image_1.png\n",
            "Resolving wld-ml-ai-data-public.s3.amazonaws.com (wld-ml-ai-data-public.s3.amazonaws.com)... 3.5.29.135, 3.5.25.72, 52.217.225.193, ...\n",
            "Connecting to wld-ml-ai-data-public.s3.amazonaws.com (wld-ml-ai-data-public.s3.amazonaws.com)|3.5.29.135|:443... connected.\n",
            "HTTP request sent, awaiting response... 200 OK\n",
            "Length: 875520 (855K) [image/png]\n",
            "Saving to: ‘./sample_ir_image.png’\n",
            "\n",
            "./sample_ir_image.p 100%[===================>] 855.00K  2.50MB/s    in 0.3s    \n",
            "\n",
            "2024-08-28 18:05:03 (2.50 MB/s) - ‘./sample_ir_image.png’ saved [875520/875520]\n",
            "\n"
          ]
        }
      ],
      "source": [
        "!wget https://wld-ml-ai-data-public.s3.amazonaws.com/public-iris-images/example_orb_image_1.png -O ./sample_ir_image.png"
      ]
    },
    {
      "cell_type": "markdown",
      "id": "5c8718c6-9011-46d8-bb30-776ffd015c8e",
      "metadata": {
        "id": "5c8718c6-9011-46d8-bb30-776ffd015c8e"
      },
      "source": [
        "## 1. Running the `IRISPipeline` inference"
      ]
    },
    {
      "cell_type": "markdown",
      "id": "1e6e9ece-7dd1-4d04-a5a6-3352a5bc8c5a",
      "metadata": {
        "id": "1e6e9ece-7dd1-4d04-a5a6-3352a5bc8c5a"
      },
      "source": [
        "Load IR image with `opencv-python` package."
      ]
    },
    {
      "cell_type": "code",
      "execution_count": 3,
      "id": "da33aefd-4b62-441c-8542-ca82ad862579",
      "metadata": {
        "id": "da33aefd-4b62-441c-8542-ca82ad862579",
        "outputId": "2ee77e7e-1e4a-4952-b447-97970b43aa17",
        "colab": {
          "base_uri": "https://localhost:8080/",
          "height": 452
        }
      },
      "outputs": [
        {
          "output_type": "execute_result",
          "data": {
            "text/plain": [
              "<matplotlib.image.AxesImage at 0x7b412f105d20>"
            ]
          },
          "metadata": {},
          "execution_count": 3
        },
        {
          "output_type": "display_data",
          "data": {
            "text/plain": [
              "<Figure size 640x480 with 1 Axes>"
            ],
            "image/png": "[encoded data removed]"
          },
          "metadata": {}
        }
      ],
      "source": [
        "import cv2\n",
        "import matplotlib.pyplot as plt\n",
        "\n",
        "img_pixels = cv2.imread(\"./sample_ir_image.png\", cv2.IMREAD_GRAYSCALE)\n",
        "plt.imshow(img_pixels, cmap='gray')"
      ]
    },
    {
      "cell_type": "markdown",
      "id": "e87d4158-e681-4152-b7b8-66427041832a",
      "metadata": {
        "id": "e87d4158-e681-4152-b7b8-66427041832a"
      },
      "source": [
        "Create `IRISPipeline` object"
      ]
    },
    {
      "cell_type": "code",
      "execution_count": 4,
      "id": "f788b312-971f-4b32-93c2-162b28a80cb8",
      "metadata": {
        "id": "f788b312-971f-4b32-93c2-162b28a80cb8",
        "outputId": "fa2a1f0a-e019-4246-fb40-869fff04315d",
        "colab": {
          "base_uri": "https://localhost:8080/",
          "height": 49,
          "referenced_widgets": [
            "67a4f3fb12d44229b58fb28c24fd0041",
            "b8b8315396ec48be8e6b83862295b28e",
            "974786911a08456f9d6870087d21086c",
            "3e75b11cb06745c6a58dd9f4ea9f70f2",
            "bb249d7f5ff6476cb769c0538c0ae7bb",
            "a2e1f05ce9844e429c5bf1095e9d89bb",
            "7cbf48282dc04f63b24b481e324d66cc",
            "b730febad3924427abbb77d616480f5a",
            "9d8a9c1704224cea81ae917638a0a5cc",
            "ec0be95067f44b5ca2fa6c564541773f",
            "4784c839d14a4511a6c7a78b143035b3"
          ]
        }
      },
      "outputs": [
        {
          "output_type": "display_data",
          "data": {
            "text/plain": [
              "iris_semseg_upp_scse_mobilenetv2.onnx:   0%|          | 0.00/56.1M [00:00<?, ?B/s]"
            ],
            "application/vnd.jupyter.widget-view+json": {
              "version_major": 2,
              "version_minor": 0,
              "model_id": "67a4f3fb12d44229b58fb28c24fd0041"
            }
          },
          "metadata": {}
        }
      ],
      "source": [
        "iris_pipeline = iris.IRISPipeline()"
      ]
    },
    {
      "cell_type": "markdown",
      "id": "d0df88e3-bb45-4d7c-a3eb-f7a4674fc1e8",
      "metadata": {
        "id": "d0df88e3-bb45-4d7c-a3eb-f7a4674fc1e8"
      },
      "source": [
        "Run `IRISPipeline` inference.\n",
        "There are several methods that wraps `IRISPipeline` inference call. Each one of them leads to the same source code being called. Possible options are:\n",
        "1) Using `__call__` operator\n",
        "2) Using `run` method\n",
        "3) Using `estimate` method\n",
        "\n",
        "```python\n",
        "# Options for the `eye_side` argument are: [\"left\", \"right\"]\n",
        "output = iris_pipeline(img_data=img_pixels, eye_side=\"right\")\n",
        "output = iris_pipeline.run(img_data=img_pixels, eye_side=\"right\")\n",
        "output = iris_pipeline.estimate(img_data=img_pixels, eye_side=\"right\")\n",
        "```"
      ]
    },
    {
      "cell_type": "code",
      "execution_count": 5,
      "id": "b41e8d94-2fc0-41ec-9a17-6f5c5e2fced6",
      "metadata": {
        "id": "b41e8d94-2fc0-41ec-9a17-6f5c5e2fced6"
      },
      "outputs": [],
      "source": [
        "output = iris_pipeline(img_data=img_pixels, eye_side=\"right\")"
      ]
    },
    {
      "cell_type": "markdown",
      "id": "c1d9577a-afab-42cc-b61c-33fdda3f3398",
      "metadata": {
        "id": "c1d9577a-afab-42cc-b61c-33fdda3f3398"
      },
      "source": [
        "The output of `IRISPipeline` is a dictionary with following keys:"
      ]
    },
    {
      "cell_type": "code",
      "execution_count": 6,
      "id": "d794e6d7-2996-4035-a37c-aeba6c7660f2",
      "metadata": {
        "id": "d794e6d7-2996-4035-a37c-aeba6c7660f2",
        "outputId": "ffdd06b3-76f7-4d51-ce52-8b1249ff6d01",
        "colab": {
          "base_uri": "https://localhost:8080/"
        }
      },
      "outputs": [
        {
          "output_type": "execute_result",
          "data": {
            "text/plain": [
              "dict_keys(['error', 'iris_template', 'metadata'])"
            ]
          },
          "metadata": {},
          "execution_count": 6
        }
      ],
      "source": [
        "output.keys()"
      ]
    },
    {
      "cell_type": "markdown",
      "id": "38eeace5-b23c-4e1e-ac9d-31e989a8b199",
      "metadata": {
        "id": "38eeace5-b23c-4e1e-ac9d-31e989a8b199"
      },
      "source": [
        "The `error` value contains information about potential exceptions being raised during performing inference. The `IRISPipeline` implements the concept of a state machine. Therefore, error handling is done through setting an appropriate variable and returning it to user for inference success status verification.\n",
        "\n",
        "If `output[\"error\"]` value is `None`, `IRISPipeline` finished inference call without any exception being raised. If the `IRISPipeline` raised some exception when performing an inference, `output[\"error\"]` value will be a  `dict`, containing three keys: `[\"error_type\", \"message\", \"traceback\"]`. An example of `output[\"error\"]` with an error looks like:\n",
        "```python\n",
        "{\n",
        "    'error_type': 'TypeError',\n",
        "    'message': \"run() got an unexpected keyword argument 'segmentation_map2'\",\n",
        "    'traceback': 'Very long exception traceback'\n",
        "}\n",
        "```"
      ]
    },
    {
      "cell_type": "code",
      "execution_count": 7,
      "id": "4b4c855b-59af-4072-85da-64abb55ae492",
      "metadata": {
        "id": "4b4c855b-59af-4072-85da-64abb55ae492",
        "outputId": "29202ab7-38d0-46a7-ed2c-f085d6d79e58",
        "colab": {
          "base_uri": "https://localhost:8080/"
        }
      },
      "outputs": [
        {
          "output_type": "execute_result",
          "data": {
            "text/plain": [
              "True"
            ]
          },
          "metadata": {},
          "execution_count": 7
        }
      ],
      "source": [
        "# Verify IRISPipeline inference call finished without any exception being raised\n",
        "output[\"error\"] is None"
      ]
    },
    {
      "cell_type": "markdown",
      "id": "3b2896e5-5069-48db-b855-cd80ea04cd6e",
      "metadata": {
        "id": "3b2896e5-5069-48db-b855-cd80ea04cd6e"
      },
      "source": [
        "The `iris_template` value contains generated by the `IRISPipeline` iris code for an iris texture visible in the input image. The `output[\"iris_template\"]` value is a `IrisTemplate` object containing two fields: `[\"iris_codes: List[np.ndarray]\", \"mask_codes: List[np.ndarray]\"]`.\n",
        "\n",
        "Each code available in `output[\"iris_template\"]` object is a `numpy.ndarray` of shape `(16, 256, 2)`. The length of arrays containing iris codes and mask codes is determined by `IRISPipeline` filter bank parameters. The iris/mask code shape's dimmensions correspond to the following `(iris_code_height, iris_code_width, 2)`. Values `iris_code_height` and `iris_code_width` are determined by `ProbeSchema`'s definition for `ConvFilterBank` object and `num_filters` is determined by number of filters specified for `ConvFilterBank` object. The last `2` value of the iris/mask code dimmension corresponds to the real and imaginary parts of each complex filter response.\n",
        "\n",
        "_NOTE_: More about how to specify those parameters and configuring custom `IRISPipeline` can be found in the _Configuring custom pipeline_ tutorial."
      ]
    },
    {
      "cell_type": "code",
      "execution_count": null,
      "id": "5d633055-b952-4689-a457-239f7acfe455",
      "metadata": {
        "id": "5d633055-b952-4689-a457-239f7acfe455"
      },
      "outputs": [],
      "source": [
        "\"\"\"Available fields in `output[\"iris_template\"]` are: \"\"\" + str(output[\"iris_template\"].__fields__)"
      ]
    },
    {
      "cell_type": "code",
      "execution_count": null,
      "id": "302b0b34-04d9-46dd-8f4c-038955731b66",
      "metadata": {
        "id": "302b0b34-04d9-46dd-8f4c-038955731b66"
      },
      "outputs": [],
      "source": [
        "num_codes = len(output[\"iris_template\"].iris_codes)\n",
        "code_shape = output[\"iris_template\"].iris_codes[0].shape\n",
        "\n",
        "f\"\"\"Number of returned iris codes is equal to {num_codes} and each code shape is {code_shape}\"\"\""
      ]
    },
    {
      "cell_type": "markdown",
      "id": "b8746399-2657-4185-a2e4-f97d439154c2",
      "metadata": {
        "id": "b8746399-2657-4185-a2e4-f97d439154c2"
      },
      "source": [
        "The `metadata` value contains additional information that may be useful for further processing or quality analisys. Metadata information contain in this dictionary presents as follow."
      ]
    },
    {
      "cell_type": "code",
      "execution_count": null,
      "id": "d671bceb-7938-4656-b803-ef561ae4d177",
      "metadata": {
        "id": "d671bceb-7938-4656-b803-ef561ae4d177"
      },
      "outputs": [],
      "source": [
        "output[\"metadata\"]"
      ]
    },
    {
      "cell_type": "markdown",
      "id": "d9acb269-8783-45d3-9fa9-a23187e205d8",
      "metadata": {
        "id": "d9acb269-8783-45d3-9fa9-a23187e205d8"
      },
      "source": [
        "Configuring pipelines error handling and which intermediate results are returned can be achived through `Environment` parameter set when the `IRISPipeline` is instantiate. To understand more about that subject please follow to the notebook's next section - _2. Configuring `IRISPipeline` environment_."
      ]
    },
    {
      "cell_type": "markdown",
      "id": "d68022fc-51df-469e-8355-ecc6e12681d2",
      "metadata": {
        "id": "d68022fc-51df-469e-8355-ecc6e12681d2"
      },
      "source": [
        "----\n",
        "## 2. Configuring `IRISPipeline` environment"
      ]
    },
    {
      "cell_type": "markdown",
      "id": "41ce28e8-7110-4ef0-b801-c08e271abfe9",
      "metadata": {
        "id": "41ce28e8-7110-4ef0-b801-c08e271abfe9"
      },
      "source": [
        "Before diving deeper into how exactly one can modify error handling or return behaviour let's first investigate what are `IRISPipeline` instantiation parameters. The `IRISPipeline`'s `__init__` method presents as follow.\n",
        "\n",
        "```python\n",
        "def __init__(\n",
        "    self,\n",
        "    config: Union[Dict[str, Any], Optional[str]] = None,\n",
        "    env: Environment = Environment(\n",
        "        pipeline_output_builder=build_orb_output,\n",
        "        error_manager=store_error_manager,\n",
        "        call_trace_initialiser=PipelineCallTraceStorage.initialise,\n",
        "    ),\n",
        ") -> None:\n",
        "```\n",
        "\n",
        "There are two parameters we can specify:\n",
        "1) `config: Union[Dict[str, Any], Optional[str]]` - refers to `IRISPipeline` configuration that specified what nodes pipeline has and how all of them are orchestrated/connected into pipeline graph. How to configure pipeline graph is a subject of the tutorial _Configuring custom pipeline_ tutorial.\n",
        "   \n",
        "2) `env: Environment` - refers to `IRISPipeline` enviroment that manages error handling and return behaviour of the `IRISPipeline`.\n",
        "\n",
        "From that we can see that in order to modify error handling or return behaviour we have to introduce our own `Environment` object when creating the `IRISPipeline` object. The `Environment` object is defined as follow.\n",
        "\n",
        "```python\n",
        "class Environment(ImmutableModel):\n",
        "    call_trace_initialiser: Callable[[Dict[str, Algorithm], List[PipelineNode]], PipelineCallTraceStorage]\n",
        "    pipeline_output_builder: Callable[[PipelineCallTraceStorage], Any]\n",
        "    error_manager: Callable[[PipelineCallTraceStorage, Exception], None]\n",
        "    disabled_qa: List[type] = []\n",
        "```\n",
        "Parameters of the `Environment` class are responsible for following:\n",
        "- `call_trace_initialiser` - is responsible for initialising the `PipelineCallTraceStorage` instance in the pipeline.\n",
        "  \n",
        "- `pipeline_output_builder` - is responsible for building the pipeline output from the `call_trace`, which kept all intermediary results so far.\n",
        "- `error_manager` - is responsible for the pipeline's behaviour in case of an exception\n",
        "- `disabled_qa` - stores a list of `Algorithm`s and/or `Callback`s types to be disabled when performing an inference call.\n",
        "\n",
        "Apart from `Environment` that `IRISPipeline` has setup by default, it also provides additional `Environment` that user can set. `Environment` is defined within `IRISPipeline` and is called `DEBUGGING_ENVIRONMENT`. As name suggest, this `Environment` is useful whenever user wants to debug pipeline by getting more insights on information flowing through the system. The `DEBUGGING_ENVIRONMENT` is defined as follow.\n",
        "\n",
        "```python\n",
        "DEBUGGING_ENVIRONMENT = Environment(\n",
        "    pipeline_output_builder=build_debugging_output,\n",
        "    error_manager=store_error_manager,\n",
        "    disabled_qa=[\n",
        "        iris.nodes.validators.object_validators.Pupil2IrisPropertyValidator,\n",
        "        iris.nodes.validators.object_validators.OffgazeValidator,\n",
        "        iris.nodes.validators.object_validators.OcclusionValidator,\n",
        "        iris.nodes.validators.object_validators.IsPupilInsideIrisValidator,\n",
        "        iris.nodes.validators.object_validators.IsMaskTooSmallValidator,\n",
        "        iris.nodes.validators.cross_object_validators.EyeCentersInsideImageValidator,\n",
        "        iris.nodes.validators.cross_object_validators.ExtrapolatedPolygonsInsideImageValidator,\n",
        "    ],\n",
        "    call_trace_initialiser=PipelineCallTraceStorage.initialise,\n",
        ")\n",
        "```\n",
        "\n",
        "Let's test it and see the output of the `IRISPipeline` with `DEBUGGING_ENVIRONMENT` set."
      ]
    },
    {
      "cell_type": "code",
      "execution_count": null,
      "id": "06beb291-809e-4706-90b6-c0c484456423",
      "metadata": {
        "id": "06beb291-809e-4706-90b6-c0c484456423"
      },
      "outputs": [],
      "source": [
        "iris_pipeline = iris.IRISPipeline(env=iris.IRISPipeline.DEBUGGING_ENVIRONMENT)\n",
        "\n",
        "output = iris_pipeline(img_data=img_pixels, eye_side=\"right\")"
      ]
    },
    {
      "cell_type": "markdown",
      "id": "e6674a17-1d96-40ea-95ca-2a65ecef2466",
      "metadata": {
        "id": "e6674a17-1d96-40ea-95ca-2a65ecef2466"
      },
      "source": [
        "In the same manner, we can investigate what has been returned from `DEBUGGING_ENVIRONMENT` and we can see that more intermediate result are available for us in the `output` dictionary."
      ]
    },
    {
      "cell_type": "code",
      "execution_count": null,
      "id": "48f2dd14-f6c5-4065-9e44-9758897fb308",
      "metadata": {
        "id": "48f2dd14-f6c5-4065-9e44-9758897fb308"
      },
      "outputs": [],
      "source": [
        "output.keys()"
      ]
    },
    {
      "cell_type": "markdown",
      "id": "241214f5-5adc-4f1b-a3cd-f461eb3ab7cf",
      "metadata": {
        "id": "241214f5-5adc-4f1b-a3cd-f461eb3ab7cf"
      },
      "source": [
        "User can also create and introduce to `IRISPipeline` their own `Environment` variables as far as they fulfill `Environment` class variables typings. For examples, please checkout `iris.orchestration.output_builders` module."
      ]
    },
    {
      "cell_type": "markdown",
      "id": "a703f17c-b4ba-4e13-933d-b4101e067fb0",
      "metadata": {
        "id": "a703f17c-b4ba-4e13-933d-b4101e067fb0"
      },
      "source": [
        "----\n",
        "## 3. Visualizing results"
      ]
    },
    {
      "cell_type": "markdown",
      "id": "e842b21e-9798-408c-827c-628708fecc24",
      "metadata": {
        "id": "e842b21e-9798-408c-827c-628708fecc24"
      },
      "source": [
        "The `iris` package provides also a useful module for plotting intermediate results - `iris.visualisation`. The main class of the module - `IRISVisualizer` - provides a bunch of plot functions that given appropriate intermediate result creates a ready to dispay `Canvas`. Definition of the `Canvas` type looks like follow.\n",
        "\n",
        "```python\n",
        "Canvas = Tuple[matplotlib.figure.Figure, Union[matplotlib.axes._axes.Axes, np.ndarray]]\n",
        "```\n",
        "\n",
        "In order to utilize `iris` package visualisation mechanisms, we have start with creating the `IRISVisualizer` class."
      ]
    },
    {
      "cell_type": "code",
      "execution_count": null,
      "id": "cd6911fd-3c83-49d2-919d-455a91e18563",
      "metadata": {
        "id": "cd6911fd-3c83-49d2-919d-455a91e18563"
      },
      "outputs": [],
      "source": [
        "iris_visualizer = iris.visualisation.IRISVisualizer()"
      ]
    },
    {
      "cell_type": "markdown",
      "id": "7f33427b-b604-493f-ab35-28005a15dd40",
      "metadata": {
        "id": "7f33427b-b604-493f-ab35-28005a15dd40"
      },
      "source": [
        "Having that done, we can use it's method by either providing `iris` package specific dataclasses or their serialized versions.\n",
        "\n",
        "_NOTE_: Available by default `IRISPipeline`'s `Environment`s return serialized version of `iris` dataclasses objects. That behaviour can be changed by creating and specifying as the `IRISPipeline` parameter your own custom `Environment` class object (see Section 2 for more details how to do that).\n",
        "\n",
        "Below you can find a bunch of exemplary `iris_visualizer` plotting methods calls."
      ]
    },
    {
      "cell_type": "code",
      "execution_count": null,
      "id": "318fd19a-015b-404d-a278-0fdfa57ab492",
      "metadata": {
        "id": "318fd19a-015b-404d-a278-0fdfa57ab492"
      },
      "outputs": [],
      "source": [
        "import matplotlib.pyplot as plt\n",
        "\n",
        "canvas = iris_visualizer.plot_ir_image(iris.IRImage(img_data=img_pixels, eye_side=\"right\"))\n",
        "plt.show()\n",
        "\n",
        "canvas = iris_visualizer.plot_iris_template(output[\"iris_template\"])\n",
        "plt.show()"
      ]
    },
    {
      "cell_type": "code",
      "execution_count": null,
      "id": "64c3c4f7",
      "metadata": {
        "id": "64c3c4f7"
      },
      "outputs": [],
      "source": [
        "output['metadata']['eye_side']"
      ]
    },
    {
      "cell_type": "markdown",
      "id": "a6ac23dc",
      "metadata": {
        "id": "a6ac23dc"
      },
      "source": [
        "---\n",
        "## 4. Visualising intermediary results\n",
        "\n",
        "Here is how you can access the actual list of nodes (i.e. the graph of algorithms that were used to process the input image into an iris code) used in the iris pipeline"
      ]
    },
    {
      "cell_type": "code",
      "execution_count": null,
      "id": "01697a7e",
      "metadata": {
        "id": "01697a7e"
      },
      "outputs": [],
      "source": [
        "iris_pipeline.params.pipeline"
      ]
    },
    {
      "cell_type": "markdown",
      "id": "a3b02dfd",
      "metadata": {
        "id": "a3b02dfd"
      },
      "source": [
        "These are declared in the yaml file used to define the computation graph. By delaut, it is located at `src/iris/pipelines/confs/pipeline.yaml`"
      ]
    },
    {
      "cell_type": "markdown",
      "id": "dd07bc9e",
      "metadata": {
        "id": "dd07bc9e"
      },
      "source": [
        "The iris pipeline object stores all intermediary results from the previous computation in its `call_trace`. This is reseted at every call, so only the latest intermediary results are available"
      ]
    },
    {
      "cell_type": "code",
      "execution_count": 8,
      "id": "bbe1e8ea",
      "metadata": {
        "id": "bbe1e8ea",
        "outputId": "d78f070a-849a-43c1-f024-f0683984b124",
        "colab": {
          "base_uri": "https://localhost:8080/"
        }
      },
      "outputs": [
        {
          "output_type": "execute_result",
          "data": {
            "text/plain": [
              "SegmentationMap(predictions=array([[[0.0000000e+00, 6.8545341e-07, 4.1723251e-07, 5.4538250e-06],\n",
              "        [0.0000000e+00, 6.8545341e-07, 4.1723251e-07, 5.4538250e-06],\n",
              "        [0.0000000e+00, 6.8545341e-07, 4.1723251e-07, 5.4538250e-06],\n",
              "        ...,\n",
              "        [0.0000000e+00, 0.0000000e+00, 0.0000000e+00, 0.0000000e+00],\n",
              "        [7.7486038e-07, 1.4901161e-07, 0.0000000e+00, 9.1493130e-06],\n",
              "        [7.7486038e-07, 1.4901161e-07, 0.0000000e+00, 9.1493130e-06]],\n",
              "\n",
              "       [[0.0000000e+00, 6.8545341e-07, 4.1723251e-07, 5.4538250e-06],\n",
              "        [0.0000000e+00, 6.8545341e-07, 4.1723251e-07, 5.4538250e-06],\n",
              "        [0.0000000e+00, 6.8545341e-07, 4.1723251e-07, 5.4538250e-06],\n",
              "        ...,\n",
              "        [0.0000000e+00, 0.0000000e+00, 0.0000000e+00, 0.0000000e+00],\n",
              "        [7.7486038e-07, 1.4901161e-07, 0.0000000e+00, 9.1493130e-06],\n",
              "        [7.7486038e-07, 1.4901161e-07, 0.0000000e+00, 9.1493130e-06]],\n",
              "\n",
              "       [[0.0000000e+00, 6.8545341e-07, 4.1723251e-07, 5.4538250e-06],\n",
              "        [0.0000000e+00, 6.8545341e-07, 4.1723251e-07, 5.4538250e-06],\n",
              "        [0.0000000e+00, 6.8545341e-07, 4.1723251e-07, 5.4538250e-06],\n",
              "        ...,\n",
              "        [0.0000000e+00, 0.0000000e+00, 0.0000000e+00, 0.0000000e+00],\n",
              "        [7.7486038e-07, 1.4901161e-07, 0.0000000e+00, 9.1493130e-06],\n",
              "        [7.7486038e-07, 1.4901161e-07, 0.0000000e+00, 9.1493130e-06]],\n",
              "\n",
              "       ...,\n",
              "\n",
              "       [[0.0000000e+00, 0.0000000e+00, 0.0000000e+00, 5.9604645e-08],\n",
              "        [0.0000000e+00, 0.0000000e+00, 0.0000000e+00, 5.9604645e-08],\n",
              "        [0.0000000e+00, 0.0000000e+00, 0.0000000e+00, 5.9604645e-08],\n",
              "        ...,\n",
              "        [0.0000000e+00, 0.0000000e+00, 0.0000000e+00, 0.0000000e+00],\n",
              "        [0.0000000e+00, 0.0000000e+00, 0.0000000e+00, 2.5331974e-06],\n",
              "        [0.0000000e+00, 0.0000000e+00, 0.0000000e+00, 2.5331974e-06]],\n",
              "\n",
              "       [[0.0000000e+00, 5.6624413e-07, 4.1723251e-07, 5.6326389e-06],\n",
              "        [0.0000000e+00, 5.6624413e-07, 4.1723251e-07, 5.6326389e-06],\n",
              "        [0.0000000e+00, 5.6624413e-07, 4.1723251e-07, 5.6326389e-06],\n",
              "        ...,\n",
              "        [0.0000000e+00, 0.0000000e+00, 0.0000000e+00, 1.1920929e-07],\n",
              "        [2.3841858e-07, 3.4868717e-06, 3.5762787e-07, 2.0223856e-04],\n",
              "        [2.3841858e-07, 3.4868717e-06, 3.5762787e-07, 2.0223856e-04]],\n",
              "\n",
              "       [[0.0000000e+00, 5.6624413e-07, 4.1723251e-07, 5.6326389e-06],\n",
              "        [0.0000000e+00, 5.6624413e-07, 4.1723251e-07, 5.6326389e-06],\n",
              "        [0.0000000e+00, 5.6624413e-07, 4.1723251e-07, 5.6326389e-06],\n",
              "        ...,\n",
              "        [0.0000000e+00, 0.0000000e+00, 0.0000000e+00, 1.1920929e-07],\n",
              "        [2.3841858e-07, 3.4868717e-06, 3.5762787e-07, 2.0223856e-04],\n",
              "        [2.3841858e-07, 3.4868717e-06, 3.5762787e-07, 2.0223856e-04]]],\n",
              "      dtype=float32), index2class={0: 'eyeball', 1: 'iris', 2: 'pupil', 3: 'eyelashes'})"
            ]
          },
          "metadata": {},
          "execution_count": 8
        }
      ],
      "source": [
        "iris_pipeline.call_trace['segmentation']"
      ]
    },
    {
      "cell_type": "code",
      "execution_count": 9,
      "id": "acdf62cb",
      "metadata": {
        "id": "acdf62cb",
        "outputId": "af5c7b98-9512-4b58-c7f0-00d9ecf9202e",
        "colab": {
          "base_uri": "https://localhost:8080/",
          "height": 211
        }
      },
      "outputs": [
        {
          "output_type": "error",
          "ename": "NameError",
          "evalue": "name 'iris_visualizer' is not defined",
          "traceback": [
            "\u001b[0;31m---------------------------------------------------------------------------\u001b[0m",
            "\u001b[0;31mNameError\u001b[0m                                 Traceback (most recent call last)",
            "\u001b[0;32m<ipython-input-9-e3029a4a87b5>\u001b[0m in \u001b[0;36m<cell line: 1>\u001b[0;34m()\u001b[0m\n\u001b[0;32m----> 1\u001b[0;31m canvas = iris_visualizer.plot_segmentation_map(\n\u001b[0m\u001b[1;32m      2\u001b[0m     \u001b[0mir_image\u001b[0m\u001b[0;34m=\u001b[0m\u001b[0miris\u001b[0m\u001b[0;34m.\u001b[0m\u001b[0mIRImage\u001b[0m\u001b[0;34m(\u001b[0m\u001b[0mimg_data\u001b[0m\u001b[0;34m=\u001b[0m\u001b[0mimg_pixels\u001b[0m\u001b[0;34m,\u001b[0m \u001b[0meye_side\u001b[0m\u001b[0;34m=\u001b[0m\u001b[0;34m\"right\"\u001b[0m\u001b[0;34m)\u001b[0m\u001b[0;34m,\u001b[0m\u001b[0;34m\u001b[0m\u001b[0;34m\u001b[0m\u001b[0m\n\u001b[1;32m      3\u001b[0m     \u001b[0msegmap\u001b[0m\u001b[0;34m=\u001b[0m\u001b[0miris_pipeline\u001b[0m\u001b[0;34m.\u001b[0m\u001b[0mcall_trace\u001b[0m\u001b[0;34m[\u001b[0m\u001b[0;34m'segmentation'\u001b[0m\u001b[0;34m]\u001b[0m\u001b[0;34m,\u001b[0m\u001b[0;34m\u001b[0m\u001b[0;34m\u001b[0m\u001b[0m\n\u001b[1;32m      4\u001b[0m )\n\u001b[1;32m      5\u001b[0m \u001b[0mplt\u001b[0m\u001b[0;34m.\u001b[0m\u001b[0mshow\u001b[0m\u001b[0;34m(\u001b[0m\u001b[0;34m)\u001b[0m\u001b[0;34m\u001b[0m\u001b[0;34m\u001b[0m\u001b[0m\n",
            "\u001b[0;31mNameError\u001b[0m: name 'iris_visualizer' is not defined"
          ]
        }
      ],
      "source": [
        "canvas = iris_visualizer.plot_segmentation_map(\n",
        "    ir_image=iris.IRImage(img_data=img_pixels, eye_side=\"right\"),\n",
        "    segmap=iris_pipeline.call_trace['segmentation'],\n",
        ")\n",
        "plt.show()"
      ]
    },
    {
      "cell_type": "code",
      "execution_count": null,
      "id": "9c2a2a41",
      "metadata": {
        "id": "9c2a2a41"
      },
      "outputs": [],
      "source": [
        "canvas = iris_visualizer.plot_all_geometry(\n",
        "    ir_image=iris.IRImage(img_data=img_pixels, eye_side=\"right\"),\n",
        "    geometry_polygons=iris_pipeline.call_trace['vectorization'],\n",
        "    eye_orientation=iris_pipeline.call_trace['eye_orientation'],\n",
        "    eye_center=iris_pipeline.call_trace['eye_center_estimation'],\n",
        ")\n",
        "plt.show()"
      ]
    },
    {
      "cell_type": "code",
      "execution_count": null,
      "id": "52038fef",
      "metadata": {
        "id": "52038fef"
      },
      "outputs": [],
      "source": [
        "canvas = iris_visualizer.plot_all_geometry(\n",
        "    ir_image=iris.IRImage(img_data=img_pixels, eye_side=\"right\"),\n",
        "    geometry_polygons=iris_pipeline.call_trace['geometry_estimation'],\n",
        "    eye_orientation=iris_pipeline.call_trace['eye_orientation'],\n",
        "    eye_center=iris_pipeline.call_trace['eye_center_estimation'],\n",
        ")\n",
        "plt.show()"
      ]
    },
    {
      "cell_type": "code",
      "execution_count": null,
      "id": "eba68cd5",
      "metadata": {
        "id": "eba68cd5"
      },
      "outputs": [],
      "source": [
        "canvas = iris_visualizer.plot_normalized_iris(\n",
        "    normalized_iris=iris_pipeline.call_trace['normalization'],\n",
        ")\n",
        "plt.show()"
      ]
    },
    {
      "cell_type": "code",
      "execution_count": null,
      "id": "d4e6399a",
      "metadata": {
        "id": "d4e6399a"
      },
      "outputs": [],
      "source": [
        "canvas = iris_visualizer.plot_iris_template(\n",
        "    iris_template=iris_pipeline.call_trace['encoder'],\n",
        ")\n",
        "plt.show()"
      ]
    },
    {
      "cell_type": "markdown",
      "id": "a3b7eab7-17cc-4e3f-a0d8-bf8e29463127",
      "metadata": {
        "id": "a3b7eab7-17cc-4e3f-a0d8-bf8e29463127"
      },
      "source": [
        "List of all available `IRISVisualizer` methods can be found in the `iris` package documentation.\n",
        "\n",
        "### Thank you for making it to the end of this tutorial!"
      ]
    }
  ],
  "metadata": {
    "kernelspec": {
      "display_name": "Python 3 (ipykernel)",
      "language": "python",
      "name": "python3"
    },
    "language_info": {
      "codemirror_mode": {
        "name": "ipython",
        "version": 3
      },
      "file_extension": ".py",
      "mimetype": "text/x-python",
      "name": "python",
      "nbconvert_exporter": "python",
      "pygments_lexer": "ipython3",
      "version": "3.9.0"
    },
    "colab": {
      "provenance": [],
      "include_colab_link": true
    },
    "widgets": {
      "application/vnd.jupyter.widget-state+json": {
        "67a4f3fb12d44229b58fb28c24fd0041": {
          "model_module": "@jupyter-widgets/controls",
          "model_name": "HBoxModel",
          "model_module_version": "1.5.0",
          "state": {
            "_dom_classes": [],
            "_model_module": "@jupyter-widgets/controls",
            "_model_module_version": "1.5.0",
            "_model_name": "HBoxModel",
            "_view_count": null,
            "_view_module": "@jupyter-widgets/controls",
            "_view_module_version": "1.5.0",
            "_view_name": "HBoxView",
            "box_style": "",
            "children": [
              "IPY_MODEL_b8b8315396ec48be8e6b83862295b28e",
              "IPY_MODEL_974786911a08456f9d6870087d21086c",
              "IPY_MODEL_3e75b11cb06745c6a58dd9f4ea9f70f2"
            ],
            "layout": "IPY_MODEL_bb249d7f5ff6476cb769c0538c0ae7bb"
          }
        },
        "b8b8315396ec48be8e6b83862295b28e": {
          "model_module": "@jupyter-widgets/controls",
          "model_name": "HTMLModel",
          "model_module_version": "1.5.0",
          "state": {
            "_dom_classes": [],
            "_model_module": "@jupyter-widgets/controls",
            "_model_module_version": "1.5.0",
            "_model_name": "HTMLModel",
            "_view_count": null,
            "_view_module": "@jupyter-widgets/controls",
            "_view_module_version": "1.5.0",
            "_view_name": "HTMLView",
            "description": "",
            "description_tooltip": null,
            "layout": "IPY_MODEL_a2e1f05ce9844e429c5bf1095e9d89bb",
            "placeholder": "​",
            "style": "IPY_MODEL_7cbf48282dc04f63b24b481e324d66cc",
            "value": "iris_semseg_upp_scse_mobilenetv2.onnx: 100%"
          }
        },
        "974786911a08456f9d6870087d21086c": {
          "model_module": "@jupyter-widgets/controls",
          "model_name": "FloatProgressModel",
          "model_module_version": "1.5.0",
          "state": {
            "_dom_classes": [],
            "_model_module": "@jupyter-widgets/controls",
            "_model_module_version": "1.5.0",
            "_model_name": "FloatProgressModel",
            "_view_count": null,
            "_view_module": "@jupyter-widgets/controls",
            "_view_module_version": "1.5.0",
            "_view_name": "ProgressView",
            "bar_style": "success",
            "description": "",
            "description_tooltip": null,
            "layout": "IPY_MODEL_b730febad3924427abbb77d616480f5a",
            "max": 56105729,
            "min": 0,
            "orientation": "horizontal",
            "style": "IPY_MODEL_9d8a9c1704224cea81ae917638a0a5cc",
            "value": 56105729
          }
        },
        "3e75b11cb06745c6a58dd9f4ea9f70f2": {
          "model_module": "@jupyter-widgets/controls",
          "model_name": "HTMLModel",
          "model_module_version": "1.5.0",
          "state": {
            "_dom_classes": [],
            "_model_module": "@jupyter-widgets/controls",
            "_model_module_version": "1.5.0",
            "_model_name": "HTMLModel",
            "_view_count": null,
            "_view_module": "@jupyter-widgets/controls",
            "_view_module_version": "1.5.0",
            "_view_name": "HTMLView",
            "description": "",
            "description_tooltip": null,
            "layout": "IPY_MODEL_ec0be95067f44b5ca2fa6c564541773f",
            "placeholder": "​",
            "style": "IPY_MODEL_4784c839d14a4511a6c7a78b143035b3",
            "value": " 56.1M/56.1M [00:00&lt;00:00, 118MB/s]"
          }
        },
        "bb249d7f5ff6476cb769c0538c0ae7bb": {
          "model_module": "@jupyter-widgets/base",
          "model_name": "LayoutModel",
          "model_module_version": "1.2.0",
          "state": {
            "_model_module": "@jupyter-widgets/base",
            "_model_module_version": "1.2.0",
            "_model_name": "LayoutModel",
            "_view_count": null,
            "_view_module": "@jupyter-widgets/base",
            "_view_module_version": "1.2.0",
            "_view_name": "LayoutView",
            "align_content": null,
            "align_items": null,
            "align_self": null,
            "border": null,
            "bottom": null,
            "display": null,
            "flex": null,
            "flex_flow": null,
            "grid_area": null,
            "grid_auto_columns": null,
            "grid_auto_flow": null,
            "grid_auto_rows": null,
            "grid_column": null,
            "grid_gap": null,
            "grid_row": null,
            "grid_template_areas": null,
            "grid_template_columns": null,
            "grid_template_rows": null,
            "height": null,
            "justify_content": null,
            "justify_items": null,
            "left": null,
            "margin": null,
            "max_height": null,
            "max_width": null,
            "min_height": null,
            "min_width": null,
            "object_fit": null,
            "object_position": null,
            "order": null,
            "overflow": null,
            "overflow_x": null,
            "overflow_y": null,
            "padding": null,
            "right": null,
            "top": null,
            "visibility": null,
            "width": null
          }
        },
        "a2e1f05ce9844e429c5bf1095e9d89bb": {
          "model_module": "@jupyter-widgets/base",
          "model_name": "LayoutModel",
          "model_module_version": "1.2.0",
          "state": {
            "_model_module": "@jupyter-widgets/base",
            "_model_module_version": "1.2.0",
            "_model_name": "LayoutModel",
            "_view_count": null,
            "_view_module": "@jupyter-widgets/base",
            "_view_module_version": "1.2.0",
            "_view_name": "LayoutView",
            "align_content": null,
            "align_items": null,
            "align_self": null,
            "border": null,
            "bottom": null,
            "display": null,
            "flex": null,
            "flex_flow": null,
            "grid_area": null,
            "grid_auto_columns": null,
            "grid_auto_flow": null,
            "grid_auto_rows": null,
            "grid_column": null,
            "grid_gap": null,
            "grid_row": null,
            "grid_template_areas": null,
            "grid_template_columns": null,
            "grid_template_rows": null,
            "height": null,
            "justify_content": null,
            "justify_items": null,
            "left": null,
            "margin": null,
            "max_height": null,
            "max_width": null,
            "min_height": null,
            "min_width": null,
            "object_fit": null,
            "object_position": null,
            "order": null,
            "overflow": null,
            "overflow_x": null,
            "overflow_y": null,
            "padding": null,
            "right": null,
            "top": null,
            "visibility": null,
            "width": null
          }
        },
        "7cbf48282dc04f63b24b481e324d66cc": {
          "model_module": "@jupyter-widgets/controls",
          "model_name": "DescriptionStyleModel",
          "model_module_version": "1.5.0",
          "state": {
            "_model_module": "@jupyter-widgets/controls",
            "_model_module_version": "1.5.0",
            "_model_name": "DescriptionStyleModel",
            "_view_count": null,
            "_view_module": "@jupyter-widgets/base",
            "_view_module_version": "1.2.0",
            "_view_name": "StyleView",
            "description_width": ""
          }
        },
        "b730febad3924427abbb77d616480f5a": {
          "model_module": "@jupyter-widgets/base",
          "model_name": "LayoutModel",
          "model_module_version": "1.2.0",
          "state": {
            "_model_module": "@jupyter-widgets/base",
            "_model_module_version": "1.2.0",
            "_model_name": "LayoutModel",
            "_view_count": null,
            "_view_module": "@jupyter-widgets/base",
            "_view_module_version": "1.2.0",
            "_view_name": "LayoutView",
            "align_content": null,
            "align_items": null,
            "align_self": null,
            "border": null,
            "bottom": null,
            "display": null,
            "flex": null,
            "flex_flow": null,
            "grid_area": null,
            "grid_auto_columns": null,
            "grid_auto_flow": null,
            "grid_auto_rows": null,
            "grid_column": null,
            "grid_gap": null,
            "grid_row": null,
            "grid_template_areas": null,
            "grid_template_columns": null,
            "grid_template_rows": null,
            "height": null,
            "justify_content": null,
            "justify_items": null,
            "left": null,
            "margin": null,
            "max_height": null,
            "max_width": null,
            "min_height": null,
            "min_width": null,
            "object_fit": null,
            "object_position": null,
            "order": null,
            "overflow": null,
            "overflow_x": null,
            "overflow_y": null,
            "padding": null,
            "right": null,
            "top": null,
            "visibility": null,
            "width": null
          }
        },
        "9d8a9c1704224cea81ae917638a0a5cc": {
          "model_module": "@jupyter-widgets/controls",
          "model_name": "ProgressStyleModel",
          "model_module_version": "1.5.0",
          "state": {
            "_model_module": "@jupyter-widgets/controls",
            "_model_module_version": "1.5.0",
            "_model_name": "ProgressStyleModel",
            "_view_count": null,
            "_view_module": "@jupyter-widgets/base",
            "_view_module_version": "1.2.0",
            "_view_name": "StyleView",
            "bar_color": null,
            "description_width": ""
          }
        },
        "ec0be95067f44b5ca2fa6c564541773f": {
          "model_module": "@jupyter-widgets/base",
          "model_name": "LayoutModel",
          "model_module_version": "1.2.0",
          "state": {
            "_model_module": "@jupyter-widgets/base",
            "_model_module_version": "1.2.0",
            "_model_name": "LayoutModel",
            "_view_count": null,
            "_view_module": "@jupyter-widgets/base",
            "_view_module_version": "1.2.0",
            "_view_name": "LayoutView",
            "align_content": null,
            "align_items": null,
            "align_self": null,
            "border": null,
            "bottom": null,
            "display": null,
            "flex": null,
            "flex_flow": null,
            "grid_area": null,
            "grid_auto_columns": null,
            "grid_auto_flow": null,
            "grid_auto_rows": null,
            "grid_column": null,
            "grid_gap": null,
            "grid_row": null,
            "grid_template_areas": null,
            "grid_template_columns": null,
            "grid_template_rows": null,
            "height": null,
            "justify_content": null,
            "justify_items": null,
            "left": null,
            "margin": null,
            "max_height": null,
            "max_width": null,
            "min_height": null,
            "min_width": null,
            "object_fit": null,
            "object_position": null,
            "order": null,
            "overflow": null,
            "overflow_x": null,
            "overflow_y": null,
            "padding": null,
            "right": null,
            "top": null,
            "visibility": null,
            "width": null
          }
        },
        "4784c839d14a4511a6c7a78b143035b3": {
          "model_module": "@jupyter-widgets/controls",
          "model_name": "DescriptionStyleModel",
          "model_module_version": "1.5.0",
          "state": {
            "_model_module": "@jupyter-widgets/controls",
            "_model_module_version": "1.5.0",
            "_model_name": "DescriptionStyleModel",
            "_view_count": null,
            "_view_module": "@jupyter-widgets/base",
            "_view_module_version": "1.2.0",
            "_view_name": "StyleView",
            "description_width": ""
          }
        }
      }
    }
  },
  "nbformat": 4,
  "nbformat_minor": 5
}